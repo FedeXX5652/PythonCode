{
 "metadata": {
  "language_info": {
   "codemirror_mode": {
    "name": "ipython",
    "version": 3
   },
   "file_extension": ".py",
   "mimetype": "text/x-python",
   "name": "python",
   "nbconvert_exporter": "python",
   "pygments_lexer": "ipython3",
   "version": "3.8.5"
  },
  "orig_nbformat": 2,
  "kernelspec": {
   "name": "python385jvsc74a57bd0c469c999aae2bf6d578d6881606ced546d1546d312a4811937df5b24665ee8bc",
   "display_name": "Python 3.8.5 64-bit ('base': conda)"
  }
 },
 "nbformat": 4,
 "nbformat_minor": 2,
 "cells": [
  {
   "source": [
    "# LABO 1"
   ],
   "cell_type": "markdown",
   "metadata": {}
  },
  {
   "source": [
    "Construir una función que dado un iterable,\n",
    "devuelva un diccionario con las frecuencias\n",
    "de sus elementos."
   ],
   "cell_type": "markdown",
   "metadata": {}
  },
  {
   "cell_type": "code",
   "execution_count": null,
   "metadata": {},
   "outputs": [],
   "source": [
    "lista = [1,1,2,4,1,3,2,1,5,1,2,3,4,3]\n",
    "\n",
    "def repeticion(lista):\n",
    "    dictio = {}\n",
    "    for i in lista:\n",
    "        repeticiones = lista.count(i)\n",
    "        dictio[i] = repeticiones\n",
    "    return dictio\n",
    "\n",
    "print(repeticion(lista))"
   ]
  },
  {
   "source": [
    "Construir una función que se llame suma_acotados.\n",
    "Esta función debe tomar un número arbitrario de\n",
    "argumentos posicionales y un keyword argument\n",
    "llamado cota, que por defecto debe tener el valor\n",
    "None. Si el argumento cota es None, debe sumar\n",
    "todos los números, si no debe sumar los números\n",
    "que se encuentren entre –cota y cota."
   ],
   "cell_type": "markdown",
   "metadata": {}
  },
  {
   "cell_type": "code",
   "execution_count": null,
   "metadata": {},
   "outputs": [],
   "source": [
    "def suma_acotados(l1, cota=None):\n",
    "    res = 0\n",
    "    if cota != None:\n",
    "        for i in l1:\n",
    "            if i > -cota and i < cota:\n",
    "                res = res + i\n",
    "    else:\n",
    "        res = res + i\n",
    "    return res\n",
    "\n",
    "l1 = [-3,-2,-1,0,1,2,3,4,5]\n",
    "cota = 5\n",
    "print(suma_acotados(l1, cota))\n"
   ]
  },
  {
   "source": [
    "# LABO 2"
   ],
   "cell_type": "markdown",
   "metadata": {}
  },
  {
   "source": [
    "1. Crear una función que dado un string cree una tupla\n",
    "con el string y la cantidad de caracteres del string.\n",
    "2. Luego, dada una lista de strings, crear otra lista con\n",
    "el resultado de aplicar la función a cada string:\n",
    "\n",
    "● Usando bucles\n",
    "\n",
    "● Usando listas por comprensión\n",
    "\n",
    "● Usando la función map"
   ],
   "cell_type": "markdown",
   "metadata": {}
  },
  {
   "cell_type": "code",
   "execution_count": null,
   "metadata": {},
   "outputs": [],
   "source": [
    "def func(string):\n",
    "    return (string, len(string))"
   ]
  },
  {
   "cell_type": "code",
   "execution_count": null,
   "metadata": {},
   "outputs": [],
   "source": [
    "def func2(str_list):\n",
    "    l1 = []\n",
    "    for i in str_list:\n",
    "        l1.append(func(i))\n",
    "    return l1"
   ]
  },
  {
   "cell_type": "code",
   "execution_count": null,
   "metadata": {},
   "outputs": [],
   "source": [
    "def func3(str_list):\n",
    "    return list(func(i) for i in str_list)"
   ]
  },
  {
   "cell_type": "code",
   "execution_count": null,
   "metadata": {},
   "outputs": [],
   "source": [
    "def func4(str_list):\n",
    "    return list(map(func, str_list))\n",
    "\n",
    "lista = [\"hola\", \"mundo\", \"hello\", \"world\"]\n",
    "print(\"func 2: \", func2(lista))\n",
    "print(\"func 3: \", func3(lista))\n",
    "print(\"func 4: \", func4(lista))"
   ]
  },
  {
   "source": [
    "Dada una lista de números usar filter para\n",
    "seleccionar los números que estén en el\n",
    "rango [8,20] y sean pares."
   ],
   "cell_type": "markdown",
   "metadata": {}
  },
  {
   "cell_type": "code",
   "execution_count": null,
   "metadata": {},
   "outputs": [],
   "source": [
    "def filtro(l1):\n",
    "    return list(i for i in l1 if i in range(8,20) and i%2==0)\n",
    "l1 = [8,7,6,5,4,9,7,8,18,16]\n",
    "print(filtro(l1))"
   ]
  },
  {
   "source": [
    "# LABO 3"
   ],
   "cell_type": "markdown",
   "metadata": {}
  },
  {
   "source": [
    "Rehacer los ejercicios del laboratorio 2\n",
    "usando funciones lambda."
   ],
   "cell_type": "markdown",
   "metadata": {}
  },
  {
   "cell_type": "code",
   "execution_count": null,
   "metadata": {},
   "outputs": [],
   "source": [
    "lista = [\"hola\", \"mundo\", \"hello\", \"world\"]\n",
    "print(\"func 5: \", list(map(lambda x: (x, len(x)), lista)))"
   ]
  },
  {
   "cell_type": "code",
   "execution_count": null,
   "metadata": {},
   "outputs": [],
   "source": [
    "l1 = [8,7,6,5,4,9,7,8,18,16]\n",
    "print(list(filter(lambda x: 8<=x<=20 and x%2==0, l1)))"
   ]
  },
  {
   "source": [
    "Dada una lista de strings, usar filter y\n",
    "lambda para seleccionar solamente los\n",
    "strings que tengan más de seis caracteres"
   ],
   "cell_type": "markdown",
   "metadata": {}
  },
  {
   "cell_type": "code",
   "execution_count": null,
   "metadata": {},
   "outputs": [],
   "source": [
    "lista = [\"hola\", \"mundo\", \"hello\", \"world\", \"jirafa\", \"elefante\", \"perro\", \"cocodrilo\", \"gato\", \"ratón\", \"murciélago\"]\n",
    "list(filter(lambda x: len(x)>=6, lista))"
   ]
  },
  {
   "source": [
    "Supongamos que tenemos una lista de tuplas en donde cada una contiene el nombre de un producto y el precio correspondiente (por ejemplo: `[(\"Campera\", 3500), (\"Mochila\", 2400), (\"Zapatillas\", 5200), (\"Jean\", 1600)]`).\n",
    "Ordenar los productos según su precio de mayor a menor usando sorted, map y funciones lambda"
   ],
   "cell_type": "markdown",
   "metadata": {}
  },
  {
   "cell_type": "code",
   "execution_count": null,
   "metadata": {},
   "outputs": [],
   "source": [
    "l1 = [(\"Campera\", 3500), (\"Mochila\", 2400),(\"Zapatillas\", 5200), (\"Jean\", 1600)]\n",
    "list(map(lambda x: x[0], sorted(l1, key= lambda x: x[1], reverse=True)))"
   ]
  },
  {
   "source": [
    "# LABO 4"
   ],
   "cell_type": "markdown",
   "metadata": {}
  },
  {
   "source": [
    "1. Importar el módulo random con un alias"
   ],
   "cell_type": "markdown",
   "metadata": {}
  },
  {
   "cell_type": "code",
   "execution_count": null,
   "metadata": {},
   "outputs": [],
   "source": [
    "import random as rd"
   ]
  },
  {
   "source": [
    "2. Importar la función sqrt del módulo math"
   ],
   "cell_type": "markdown",
   "metadata": {}
  },
  {
   "cell_type": "code",
   "execution_count": null,
   "metadata": {},
   "outputs": [],
   "source": [
    "from math import sqrt"
   ]
  },
  {
   "source": [
    "3. Generar una lista con cien números aleatorios\n",
    "(usar cualquier distribución)."
   ],
   "cell_type": "markdown",
   "metadata": {}
  },
  {
   "cell_type": "code",
   "execution_count": null,
   "metadata": {},
   "outputs": [],
   "source": [
    "import random as rd\n",
    "l1 = list(int(rd.random()*100) for x in range(100))\n",
    "l1"
   ]
  },
  {
   "source": [
    "4. A partir de esa lista, generar otra con las raíces\n",
    "cuadradas de esos números."
   ],
   "cell_type": "markdown",
   "metadata": {}
  },
  {
   "cell_type": "code",
   "execution_count": null,
   "metadata": {},
   "outputs": [],
   "source": [
    "import random as rd\n",
    "from math import sqrt\n",
    "l1 = list(int(rd.random()*100) for x in range(100))\n",
    "l2 = list(sqrt(x) for x in l1)\n",
    "l2"
   ]
  }
 ]
}