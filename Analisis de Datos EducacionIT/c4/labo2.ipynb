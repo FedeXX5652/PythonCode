{
 "metadata": {
  "language_info": {
   "codemirror_mode": {
    "name": "ipython",
    "version": 3
   },
   "file_extension": ".py",
   "mimetype": "text/x-python",
   "name": "python",
   "nbconvert_exporter": "python",
   "pygments_lexer": "ipython3",
   "version": "3.8.5"
  },
  "orig_nbformat": 4,
  "kernelspec": {
   "name": "python3",
   "display_name": "Python 3.8.5 64-bit ('base': conda)"
  },
  "interpreter": {
   "hash": "c469c999aae2bf6d578d6881606ced546d1546d312a4811937df5b24665ee8bc"
  }
 },
 "nbformat": 4,
 "nbformat_minor": 2,
 "cells": [
  {
   "source": [
    "1. Seleccionar las columnas “Survived”, “Pclass”, “Age” y “Sex”.\n",
    "\n",
    "2. Seleccionar las filas 200 a 400 de las columnas “Name” y “Age”.\n",
    "\n",
    "3. Seleccionar las últimas 120 filas de las últimas tres columnas.\n",
    "\n",
    "4. Seleccionar todos los datos de los sobrevivientes.\n",
    "\n",
    "5. Seleccionar los nombres de los menores de 18 años.\n",
    "\n",
    "6. Seleccionar las edades de las mujeres."
   ],
   "cell_type": "markdown",
   "metadata": {}
  },
  {
   "cell_type": "code",
   "execution_count": 3,
   "metadata": {},
   "outputs": [
    {
     "output_type": "execute_result",
     "data": {
      "text/plain": [
       "     Survived  Pclass   Age     Sex\n",
       "0           0       3  22.0    male\n",
       "1           1       1  38.0  female\n",
       "2           1       3  26.0  female\n",
       "3           1       1  35.0  female\n",
       "4           0       3  35.0    male\n",
       "..        ...     ...   ...     ...\n",
       "886         0       2  27.0    male\n",
       "887         1       1  19.0  female\n",
       "888         0       3   NaN  female\n",
       "889         1       1  26.0    male\n",
       "890         0       3  32.0    male\n",
       "\n",
       "[891 rows x 4 columns]"
      ],
      "text/html": "<div>\n<style scoped>\n    .dataframe tbody tr th:only-of-type {\n        vertical-align: middle;\n    }\n\n    .dataframe tbody tr th {\n        vertical-align: top;\n    }\n\n    .dataframe thead th {\n        text-align: right;\n    }\n</style>\n<table border=\"1\" class=\"dataframe\">\n  <thead>\n    <tr style=\"text-align: right;\">\n      <th></th>\n      <th>Survived</th>\n      <th>Pclass</th>\n      <th>Age</th>\n      <th>Sex</th>\n    </tr>\n  </thead>\n  <tbody>\n    <tr>\n      <th>0</th>\n      <td>0</td>\n      <td>3</td>\n      <td>22.0</td>\n      <td>male</td>\n    </tr>\n    <tr>\n      <th>1</th>\n      <td>1</td>\n      <td>1</td>\n      <td>38.0</td>\n      <td>female</td>\n    </tr>\n    <tr>\n      <th>2</th>\n      <td>1</td>\n      <td>3</td>\n      <td>26.0</td>\n      <td>female</td>\n    </tr>\n    <tr>\n      <th>3</th>\n      <td>1</td>\n      <td>1</td>\n      <td>35.0</td>\n      <td>female</td>\n    </tr>\n    <tr>\n      <th>4</th>\n      <td>0</td>\n      <td>3</td>\n      <td>35.0</td>\n      <td>male</td>\n    </tr>\n    <tr>\n      <th>...</th>\n      <td>...</td>\n      <td>...</td>\n      <td>...</td>\n      <td>...</td>\n    </tr>\n    <tr>\n      <th>886</th>\n      <td>0</td>\n      <td>2</td>\n      <td>27.0</td>\n      <td>male</td>\n    </tr>\n    <tr>\n      <th>887</th>\n      <td>1</td>\n      <td>1</td>\n      <td>19.0</td>\n      <td>female</td>\n    </tr>\n    <tr>\n      <th>888</th>\n      <td>0</td>\n      <td>3</td>\n      <td>NaN</td>\n      <td>female</td>\n    </tr>\n    <tr>\n      <th>889</th>\n      <td>1</td>\n      <td>1</td>\n      <td>26.0</td>\n      <td>male</td>\n    </tr>\n    <tr>\n      <th>890</th>\n      <td>0</td>\n      <td>3</td>\n      <td>32.0</td>\n      <td>male</td>\n    </tr>\n  </tbody>\n</table>\n<p>891 rows × 4 columns</p>\n</div>"
     },
     "metadata": {},
     "execution_count": 3
    }
   ],
   "source": [
    "#1\n",
    "import pandas as pd\n",
    "data = pd.read_csv(\"titanic.csv\")\n",
    "\n",
    "data[[\"Survived\", \"Pclass\", \"Age\", \"Sex\"]]"
   ]
  },
  {
   "cell_type": "code",
   "execution_count": 10,
   "metadata": {},
   "outputs": [
    {
     "output_type": "execute_result",
     "data": {
      "text/plain": [
       "                                 Name   Age\n",
       "200    Vande Walle, Mr. Nestor Cyriel  28.0\n",
       "201               Sage, Mr. Frederick   NaN\n",
       "202        Johanson, Mr. Jakob Alfred  34.0\n",
       "203              Youseff, Mr. Gerious  45.5\n",
       "204          Cohen, Mr. Gurshon \"Gus\"  18.0\n",
       "..                                ...   ...\n",
       "396               Olsson, Miss. Elina  31.0\n",
       "397           McKane, Mr. Peter David  46.0\n",
       "398                  Pain, Dr. Alfred  23.0\n",
       "399  Trout, Mrs. William H (Jessie L)  28.0\n",
       "400                Niskanen, Mr. Juha  39.0\n",
       "\n",
       "[201 rows x 2 columns]"
      ],
      "text/html": "<div>\n<style scoped>\n    .dataframe tbody tr th:only-of-type {\n        vertical-align: middle;\n    }\n\n    .dataframe tbody tr th {\n        vertical-align: top;\n    }\n\n    .dataframe thead th {\n        text-align: right;\n    }\n</style>\n<table border=\"1\" class=\"dataframe\">\n  <thead>\n    <tr style=\"text-align: right;\">\n      <th></th>\n      <th>Name</th>\n      <th>Age</th>\n    </tr>\n  </thead>\n  <tbody>\n    <tr>\n      <th>200</th>\n      <td>Vande Walle, Mr. Nestor Cyriel</td>\n      <td>28.0</td>\n    </tr>\n    <tr>\n      <th>201</th>\n      <td>Sage, Mr. Frederick</td>\n      <td>NaN</td>\n    </tr>\n    <tr>\n      <th>202</th>\n      <td>Johanson, Mr. Jakob Alfred</td>\n      <td>34.0</td>\n    </tr>\n    <tr>\n      <th>203</th>\n      <td>Youseff, Mr. Gerious</td>\n      <td>45.5</td>\n    </tr>\n    <tr>\n      <th>204</th>\n      <td>Cohen, Mr. Gurshon \"Gus\"</td>\n      <td>18.0</td>\n    </tr>\n    <tr>\n      <th>...</th>\n      <td>...</td>\n      <td>...</td>\n    </tr>\n    <tr>\n      <th>396</th>\n      <td>Olsson, Miss. Elina</td>\n      <td>31.0</td>\n    </tr>\n    <tr>\n      <th>397</th>\n      <td>McKane, Mr. Peter David</td>\n      <td>46.0</td>\n    </tr>\n    <tr>\n      <th>398</th>\n      <td>Pain, Dr. Alfred</td>\n      <td>23.0</td>\n    </tr>\n    <tr>\n      <th>399</th>\n      <td>Trout, Mrs. William H (Jessie L)</td>\n      <td>28.0</td>\n    </tr>\n    <tr>\n      <th>400</th>\n      <td>Niskanen, Mr. Juha</td>\n      <td>39.0</td>\n    </tr>\n  </tbody>\n</table>\n<p>201 rows × 2 columns</p>\n</div>"
     },
     "metadata": {},
     "execution_count": 10
    }
   ],
   "source": [
    "#2\n",
    "data.loc[200:400, [\"Name\", \"Age\"]]"
   ]
  },
  {
   "cell_type": "code",
   "execution_count": 15,
   "metadata": {},
   "outputs": [
    {
     "output_type": "execute_result",
     "data": {
      "text/plain": [
       "        Fare Cabin Embarked\n",
       "771   7.8542   NaN        S\n",
       "772  10.5000   E77        S\n",
       "773   7.2250   NaN        C\n",
       "774  23.0000   NaN        S\n",
       "775   7.7500   NaN        S\n",
       "..       ...   ...      ...\n",
       "886  13.0000   NaN        S\n",
       "887  30.0000   B42        S\n",
       "888  23.4500   NaN        S\n",
       "889  30.0000  C148        C\n",
       "890   7.7500   NaN        Q\n",
       "\n",
       "[120 rows x 3 columns]"
      ],
      "text/html": "<div>\n<style scoped>\n    .dataframe tbody tr th:only-of-type {\n        vertical-align: middle;\n    }\n\n    .dataframe tbody tr th {\n        vertical-align: top;\n    }\n\n    .dataframe thead th {\n        text-align: right;\n    }\n</style>\n<table border=\"1\" class=\"dataframe\">\n  <thead>\n    <tr style=\"text-align: right;\">\n      <th></th>\n      <th>Fare</th>\n      <th>Cabin</th>\n      <th>Embarked</th>\n    </tr>\n  </thead>\n  <tbody>\n    <tr>\n      <th>771</th>\n      <td>7.8542</td>\n      <td>NaN</td>\n      <td>S</td>\n    </tr>\n    <tr>\n      <th>772</th>\n      <td>10.5000</td>\n      <td>E77</td>\n      <td>S</td>\n    </tr>\n    <tr>\n      <th>773</th>\n      <td>7.2250</td>\n      <td>NaN</td>\n      <td>C</td>\n    </tr>\n    <tr>\n      <th>774</th>\n      <td>23.0000</td>\n      <td>NaN</td>\n      <td>S</td>\n    </tr>\n    <tr>\n      <th>775</th>\n      <td>7.7500</td>\n      <td>NaN</td>\n      <td>S</td>\n    </tr>\n    <tr>\n      <th>...</th>\n      <td>...</td>\n      <td>...</td>\n      <td>...</td>\n    </tr>\n    <tr>\n      <th>886</th>\n      <td>13.0000</td>\n      <td>NaN</td>\n      <td>S</td>\n    </tr>\n    <tr>\n      <th>887</th>\n      <td>30.0000</td>\n      <td>B42</td>\n      <td>S</td>\n    </tr>\n    <tr>\n      <th>888</th>\n      <td>23.4500</td>\n      <td>NaN</td>\n      <td>S</td>\n    </tr>\n    <tr>\n      <th>889</th>\n      <td>30.0000</td>\n      <td>C148</td>\n      <td>C</td>\n    </tr>\n    <tr>\n      <th>890</th>\n      <td>7.7500</td>\n      <td>NaN</td>\n      <td>Q</td>\n    </tr>\n  </tbody>\n</table>\n<p>120 rows × 3 columns</p>\n</div>"
     },
     "metadata": {},
     "execution_count": 15
    }
   ],
   "source": [
    "#3\n",
    "data.iloc[-120:, -3:]"
   ]
  },
  {
   "cell_type": "code",
   "execution_count": 19,
   "metadata": {},
   "outputs": [
    {
     "output_type": "execute_result",
     "data": {
      "text/plain": [
       "     Survived\n",
       "0           0\n",
       "1           1\n",
       "2           1\n",
       "3           1\n",
       "4           0\n",
       "..        ...\n",
       "886         0\n",
       "887         1\n",
       "888         0\n",
       "889         1\n",
       "890         0\n",
       "\n",
       "[891 rows x 1 columns]"
      ],
      "text/html": "<div>\n<style scoped>\n    .dataframe tbody tr th:only-of-type {\n        vertical-align: middle;\n    }\n\n    .dataframe tbody tr th {\n        vertical-align: top;\n    }\n\n    .dataframe thead th {\n        text-align: right;\n    }\n</style>\n<table border=\"1\" class=\"dataframe\">\n  <thead>\n    <tr style=\"text-align: right;\">\n      <th></th>\n      <th>Survived</th>\n    </tr>\n  </thead>\n  <tbody>\n    <tr>\n      <th>0</th>\n      <td>0</td>\n    </tr>\n    <tr>\n      <th>1</th>\n      <td>1</td>\n    </tr>\n    <tr>\n      <th>2</th>\n      <td>1</td>\n    </tr>\n    <tr>\n      <th>3</th>\n      <td>1</td>\n    </tr>\n    <tr>\n      <th>4</th>\n      <td>0</td>\n    </tr>\n    <tr>\n      <th>...</th>\n      <td>...</td>\n    </tr>\n    <tr>\n      <th>886</th>\n      <td>0</td>\n    </tr>\n    <tr>\n      <th>887</th>\n      <td>1</td>\n    </tr>\n    <tr>\n      <th>888</th>\n      <td>0</td>\n    </tr>\n    <tr>\n      <th>889</th>\n      <td>1</td>\n    </tr>\n    <tr>\n      <th>890</th>\n      <td>0</td>\n    </tr>\n  </tbody>\n</table>\n<p>891 rows × 1 columns</p>\n</div>"
     },
     "metadata": {},
     "execution_count": 19
    }
   ],
   "source": [
    "#4\r\n",
    "data[[\"Survived\"]]"
   ]
  },
  {
   "cell_type": "code",
   "execution_count": 21,
   "metadata": {},
   "outputs": [
    {
     "output_type": "execute_result",
     "data": {
      "text/plain": [
       "                                        Name\n",
       "7             Palsson, Master. Gosta Leonard\n",
       "9        Nasser, Mrs. Nicholas (Adele Achem)\n",
       "10           Sandstrom, Miss. Marguerite Rut\n",
       "14      Vestrom, Miss. Hulda Amanda Adolfina\n",
       "16                      Rice, Master. Eugene\n",
       "..                                       ...\n",
       "850  Andersson, Master. Sigvard Harald Elias\n",
       "852                  Boulos, Miss. Nourelain\n",
       "853                Lines, Miss. Mary Conover\n",
       "869          Johnson, Master. Harold Theodor\n",
       "875         Najib, Miss. Adele Kiamie \"Jane\"\n",
       "\n",
       "[113 rows x 1 columns]"
      ],
      "text/html": "<div>\n<style scoped>\n    .dataframe tbody tr th:only-of-type {\n        vertical-align: middle;\n    }\n\n    .dataframe tbody tr th {\n        vertical-align: top;\n    }\n\n    .dataframe thead th {\n        text-align: right;\n    }\n</style>\n<table border=\"1\" class=\"dataframe\">\n  <thead>\n    <tr style=\"text-align: right;\">\n      <th></th>\n      <th>Name</th>\n    </tr>\n  </thead>\n  <tbody>\n    <tr>\n      <th>7</th>\n      <td>Palsson, Master. Gosta Leonard</td>\n    </tr>\n    <tr>\n      <th>9</th>\n      <td>Nasser, Mrs. Nicholas (Adele Achem)</td>\n    </tr>\n    <tr>\n      <th>10</th>\n      <td>Sandstrom, Miss. Marguerite Rut</td>\n    </tr>\n    <tr>\n      <th>14</th>\n      <td>Vestrom, Miss. Hulda Amanda Adolfina</td>\n    </tr>\n    <tr>\n      <th>16</th>\n      <td>Rice, Master. Eugene</td>\n    </tr>\n    <tr>\n      <th>...</th>\n      <td>...</td>\n    </tr>\n    <tr>\n      <th>850</th>\n      <td>Andersson, Master. Sigvard Harald Elias</td>\n    </tr>\n    <tr>\n      <th>852</th>\n      <td>Boulos, Miss. Nourelain</td>\n    </tr>\n    <tr>\n      <th>853</th>\n      <td>Lines, Miss. Mary Conover</td>\n    </tr>\n    <tr>\n      <th>869</th>\n      <td>Johnson, Master. Harold Theodor</td>\n    </tr>\n    <tr>\n      <th>875</th>\n      <td>Najib, Miss. Adele Kiamie \"Jane\"</td>\n    </tr>\n  </tbody>\n</table>\n<p>113 rows × 1 columns</p>\n</div>"
     },
     "metadata": {},
     "execution_count": 21
    }
   ],
   "source": [
    "#5\n",
    "data.loc[data[\"Age\"]<18, [\"Name\"]]"
   ]
  },
  {
   "cell_type": "code",
   "execution_count": 23,
   "metadata": {},
   "outputs": [
    {
     "output_type": "execute_result",
     "data": {
      "text/plain": [
       "      Age\n",
       "1    38.0\n",
       "2    26.0\n",
       "3    35.0\n",
       "8    27.0\n",
       "9    14.0\n",
       "..    ...\n",
       "880  25.0\n",
       "882  22.0\n",
       "885  39.0\n",
       "887  19.0\n",
       "888   NaN\n",
       "\n",
       "[314 rows x 1 columns]"
      ],
      "text/html": "<div>\n<style scoped>\n    .dataframe tbody tr th:only-of-type {\n        vertical-align: middle;\n    }\n\n    .dataframe tbody tr th {\n        vertical-align: top;\n    }\n\n    .dataframe thead th {\n        text-align: right;\n    }\n</style>\n<table border=\"1\" class=\"dataframe\">\n  <thead>\n    <tr style=\"text-align: right;\">\n      <th></th>\n      <th>Age</th>\n    </tr>\n  </thead>\n  <tbody>\n    <tr>\n      <th>1</th>\n      <td>38.0</td>\n    </tr>\n    <tr>\n      <th>2</th>\n      <td>26.0</td>\n    </tr>\n    <tr>\n      <th>3</th>\n      <td>35.0</td>\n    </tr>\n    <tr>\n      <th>8</th>\n      <td>27.0</td>\n    </tr>\n    <tr>\n      <th>9</th>\n      <td>14.0</td>\n    </tr>\n    <tr>\n      <th>...</th>\n      <td>...</td>\n    </tr>\n    <tr>\n      <th>880</th>\n      <td>25.0</td>\n    </tr>\n    <tr>\n      <th>882</th>\n      <td>22.0</td>\n    </tr>\n    <tr>\n      <th>885</th>\n      <td>39.0</td>\n    </tr>\n    <tr>\n      <th>887</th>\n      <td>19.0</td>\n    </tr>\n    <tr>\n      <th>888</th>\n      <td>NaN</td>\n    </tr>\n  </tbody>\n</table>\n<p>314 rows × 1 columns</p>\n</div>"
     },
     "metadata": {},
     "execution_count": 23
    }
   ],
   "source": [
    "#6\n",
    "data.loc[data[\"Sex\"]==\"female\", [\"Age\"]]"
   ]
  },
  {
   "cell_type": "code",
   "execution_count": null,
   "metadata": {},
   "outputs": [],
   "source": []
  }
 ]
}