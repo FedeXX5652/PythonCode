{
 "metadata": {
  "language_info": {
   "codemirror_mode": {
    "name": "ipython",
    "version": 3
   },
   "file_extension": ".py",
   "mimetype": "text/x-python",
   "name": "python",
   "nbconvert_exporter": "python",
   "pygments_lexer": "ipython3",
   "version": "3.8.5"
  },
  "orig_nbformat": 4,
  "kernelspec": {
   "name": "python3",
   "display_name": "Python 3.8.5 64-bit ('base': conda)"
  },
  "interpreter": {
   "hash": "c469c999aae2bf6d578d6881606ced546d1546d312a4811937df5b24665ee8bc"
  }
 },
 "nbformat": 4,
 "nbformat_minor": 2,
 "cells": [
  {
   "source": [
    "1. Encontrar el promedio de edad de hombres y mujeres.\n",
    "\n",
    "2. Encontrar la cantidad de hombres y mujeres.\n",
    "\n",
    "3. Encontrar la cantidad de supervivientes entre hombres y mujeres.\n",
    "\n",
    "4. Encontrar la proporción de supervivientes entre hombres y mujeres.\n",
    "\n",
    "5. Usar describe con incrementos del percentil de 10%."
   ],
   "cell_type": "markdown",
   "metadata": {}
  },
  {
   "cell_type": "code",
   "execution_count": 28,
   "metadata": {},
   "outputs": [
    {
     "output_type": "execute_result",
     "data": {
      "text/plain": [
       "29.69911764705882"
      ]
     },
     "metadata": {},
     "execution_count": 28
    }
   ],
   "source": [
    "#1\n",
    "import pandas as pd\n",
    "data = pd.read_csv(\"titanic_testing.csv\")\n",
    "\n",
    "data[\"Age\"].mean()"
   ]
  },
  {
   "cell_type": "code",
   "execution_count": 40,
   "metadata": {},
   "outputs": [
    {
     "output_type": "stream",
     "name": "stdout",
     "text": [
      "Male:  577\nFemale:  314\n"
     ]
    }
   ],
   "source": [
    "#2\n",
    "# m=0\n",
    "# f=0\n",
    "# for x in data[\"Sex\"]:\n",
    "#     if x == \"male\":\n",
    "#         m+=1\n",
    "#     elif x == \"female\":\n",
    "#         f+=1\n",
    "# print(\"Male: \", m)\n",
    "# print(\"Female: \", f)\n",
    "print(\"Male: \",(data[\"Sex\"] == \"male\").sum())\n",
    "print(\"Female: \",(data[\"Sex\"] == \"female\").sum())"
   ]
  },
  {
   "cell_type": "code",
   "execution_count": 36,
   "metadata": {},
   "outputs": [
    {
     "output_type": "execute_result",
     "data": {
      "text/plain": [
       "Sex\n",
       "female    233\n",
       "male      109\n",
       "Name: Survived, dtype: int64"
      ]
     },
     "metadata": {},
     "execution_count": 36
    }
   ],
   "source": [
    "#3\n",
    "data.groupby(\"Sex\")[\"Survived\"].sum()"
   ]
  },
  {
   "cell_type": "code",
   "execution_count": 39,
   "metadata": {},
   "outputs": [
    {
     "output_type": "stream",
     "name": "stdout",
     "text": [
      "Male survival mean:  0.122334455667789\nFemale survival mean:  0.2615039281705948\n"
     ]
    }
   ],
   "source": [
    "#4 no da lo que debería dar\r\n",
    "print(\"Male survival mean: \",((data[\"Sex\"] == \"male\") & (data[\"Survived\"] == 1)).mean())\r\n",
    "print(\"Female survival mean: \",((data[\"Sex\"] == \"female\") & (data[\"Survived\"] == 1)).mean())"
   ]
  },
  {
   "cell_type": "code",
   "execution_count": 44,
   "metadata": {},
   "outputs": [
    {
     "output_type": "execute_result",
     "data": {
      "text/plain": [
       "       PassengerId    Survived      Pclass         Age       SibSp  \\\n",
       "count   891.100000  891.100000  891.100000  714.100000  891.100000   \n",
       "mean    446.100000    0.483838    2.408642   29.799118    0.623008   \n",
       "std     257.453842    0.586592    0.936071   14.626497    1.202743   \n",
       "min       1.100000    0.100000    1.100000    0.520000    0.100000   \n",
       "25%     223.600000    0.100000    2.100000   20.225000    0.100000   \n",
       "50%     446.100000    0.100000    3.100000   28.100000    0.100000   \n",
       "75%     668.600000    1.100000    3.100000   38.100000    1.100000   \n",
       "max     891.100000    1.100000    3.100000   80.100000    8.100000   \n",
       "\n",
       "            Parch        Fare  \n",
       "count  891.100000  891.100000  \n",
       "mean     0.481594   32.304208  \n",
       "std      0.906057   49.793429  \n",
       "min      0.100000    0.100000  \n",
       "25%      0.100000    8.010400  \n",
       "50%      0.100000   14.554200  \n",
       "75%      0.100000   31.100000  \n",
       "max      6.100000  512.429200  "
      ],
      "text/html": "<div>\n<style scoped>\n    .dataframe tbody tr th:only-of-type {\n        vertical-align: middle;\n    }\n\n    .dataframe tbody tr th {\n        vertical-align: top;\n    }\n\n    .dataframe thead th {\n        text-align: right;\n    }\n</style>\n<table border=\"1\" class=\"dataframe\">\n  <thead>\n    <tr style=\"text-align: right;\">\n      <th></th>\n      <th>PassengerId</th>\n      <th>Survived</th>\n      <th>Pclass</th>\n      <th>Age</th>\n      <th>SibSp</th>\n      <th>Parch</th>\n      <th>Fare</th>\n    </tr>\n  </thead>\n  <tbody>\n    <tr>\n      <th>count</th>\n      <td>891.100000</td>\n      <td>891.100000</td>\n      <td>891.100000</td>\n      <td>714.100000</td>\n      <td>891.100000</td>\n      <td>891.100000</td>\n      <td>891.100000</td>\n    </tr>\n    <tr>\n      <th>mean</th>\n      <td>446.100000</td>\n      <td>0.483838</td>\n      <td>2.408642</td>\n      <td>29.799118</td>\n      <td>0.623008</td>\n      <td>0.481594</td>\n      <td>32.304208</td>\n    </tr>\n    <tr>\n      <th>std</th>\n      <td>257.453842</td>\n      <td>0.586592</td>\n      <td>0.936071</td>\n      <td>14.626497</td>\n      <td>1.202743</td>\n      <td>0.906057</td>\n      <td>49.793429</td>\n    </tr>\n    <tr>\n      <th>min</th>\n      <td>1.100000</td>\n      <td>0.100000</td>\n      <td>1.100000</td>\n      <td>0.520000</td>\n      <td>0.100000</td>\n      <td>0.100000</td>\n      <td>0.100000</td>\n    </tr>\n    <tr>\n      <th>25%</th>\n      <td>223.600000</td>\n      <td>0.100000</td>\n      <td>2.100000</td>\n      <td>20.225000</td>\n      <td>0.100000</td>\n      <td>0.100000</td>\n      <td>8.010400</td>\n    </tr>\n    <tr>\n      <th>50%</th>\n      <td>446.100000</td>\n      <td>0.100000</td>\n      <td>3.100000</td>\n      <td>28.100000</td>\n      <td>0.100000</td>\n      <td>0.100000</td>\n      <td>14.554200</td>\n    </tr>\n    <tr>\n      <th>75%</th>\n      <td>668.600000</td>\n      <td>1.100000</td>\n      <td>3.100000</td>\n      <td>38.100000</td>\n      <td>1.100000</td>\n      <td>0.100000</td>\n      <td>31.100000</td>\n    </tr>\n    <tr>\n      <th>max</th>\n      <td>891.100000</td>\n      <td>1.100000</td>\n      <td>3.100000</td>\n      <td>80.100000</td>\n      <td>8.100000</td>\n      <td>6.100000</td>\n      <td>512.429200</td>\n    </tr>\n  </tbody>\n</table>\n</div>"
     },
     "metadata": {},
     "execution_count": 44
    }
   ],
   "source": [
    "data.describe()+0.1"
   ]
  },
  {
   "cell_type": "code",
   "execution_count": null,
   "metadata": {},
   "outputs": [],
   "source": []
  }
 ]
}