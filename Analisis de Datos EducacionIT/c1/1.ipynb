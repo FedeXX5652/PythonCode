{
 "metadata": {
  "language_info": {
   "codemirror_mode": {
    "name": "ipython",
    "version": 3
   },
   "file_extension": ".py",
   "mimetype": "text/x-python",
   "name": "python",
   "nbconvert_exporter": "python",
   "pygments_lexer": "ipython3",
   "version": "3.8.5"
  },
  "orig_nbformat": 2,
  "kernelspec": {
   "name": "python385jvsc74a57bd0c469c999aae2bf6d578d6881606ced546d1546d312a4811937df5b24665ee8bc",
   "display_name": "Python 3.8.5 64-bit ('base': conda)"
  }
 },
 "nbformat": 4,
 "nbformat_minor": 2,
 "cells": [
  {
   "source": [
    "Dada una lista de números encontrar el promediode sus elementos:\n",
    "\n",
    "1. Sin usar ninguna función.\n",
    "2. Usando funciones incorporadas de Python."
   ],
   "cell_type": "markdown",
   "metadata": {}
  },
  {
   "cell_type": "code",
   "execution_count": 11,
   "metadata": {},
   "outputs": [
    {
     "output_type": "execute_result",
     "data": {
      "text/plain": [
       "16.22222222222222"
      ]
     },
     "metadata": {},
     "execution_count": 11
    }
   ],
   "source": [
    "l1 = [1,5,3,59,3,4,65,2,4]\n",
    "suma = 0\n",
    "n = 0\n",
    "for num in l1:\n",
    "    suma += num\n",
    "    n += 1\n",
    "\n",
    "suma/n"
   ]
  },
  {
   "cell_type": "code",
   "execution_count": 12,
   "metadata": {},
   "outputs": [
    {
     "output_type": "execute_result",
     "data": {
      "text/plain": [
       "16.22222222222222"
      ]
     },
     "metadata": {},
     "execution_count": 12
    }
   ],
   "source": [
    "sum(l1)/len(l1)"
   ]
  },
  {
   "source": [
    "Dadas dos listas encontrar todos los elementos que tienen en común:\n",
    "\n",
    "1. Usando bucles.\n",
    "2. Usando conjuntos."
   ],
   "cell_type": "markdown",
   "metadata": {}
  },
  {
   "cell_type": "code",
   "execution_count": 13,
   "metadata": {},
   "outputs": [
    {
     "output_type": "execute_result",
     "data": {
      "text/plain": [
       "[1, 5, 3, 4, 65, 2]"
      ]
     },
     "metadata": {},
     "execution_count": 13
    }
   ],
   "source": [
    "l2=[1,8,3,5,8,4,65,2,4]\n",
    "res=[]\n",
    "for item in l1:\n",
    "    if item in l2 and item not in res:\n",
    "        res.append(item)\n",
    "res"
   ]
  },
  {
   "cell_type": "code",
   "execution_count": 14,
   "metadata": {},
   "outputs": [
    {
     "output_type": "execute_result",
     "data": {
      "text/plain": [
       "{1, 2, 3, 4, 5, 65}"
      ]
     },
     "metadata": {},
     "execution_count": 14
    }
   ],
   "source": [
    "set(l1).intersection(set(l2))"
   ]
  },
  {
   "source": [
    "Dadas dos listas, contar cuántas veces aparece en\n",
    "una de ellas los elementos que tienen en común."
   ],
   "cell_type": "markdown",
   "metadata": {}
  },
  {
   "cell_type": "code",
   "execution_count": 15,
   "metadata": {},
   "outputs": [
    {
     "output_type": "execute_result",
     "data": {
      "text/plain": [
       "{1: 1, 5: 1, 3: 2, 4: 2, 65: 1, 2: 1}"
      ]
     },
     "metadata": {},
     "execution_count": 15
    }
   ],
   "source": [
    "res=[]\n",
    "frec={}\n",
    "for item in l1:\n",
    "    if item in l2:\n",
    "        if item in frec:\n",
    "            frec[item] += 1\n",
    "        else:\n",
    "            frec[item] = 1\n",
    "frec\n",
    "        "
   ]
  },
  {
   "source": [
    "Crear una lista con los primeros 10 múltiplos de 5:\n",
    "\n",
    "1. Usando bucles tradicionales.\n",
    "2. Usando listas por comprensión."
   ],
   "cell_type": "markdown",
   "metadata": {}
  },
  {
   "cell_type": "code",
   "execution_count": 16,
   "metadata": {},
   "outputs": [
    {
     "output_type": "execute_result",
     "data": {
      "text/plain": [
       "[0, 5, 10, 15, 20, 25, 30, 35, 40, 45]"
      ]
     },
     "metadata": {},
     "execution_count": 16
    }
   ],
   "source": [
    "mult=[]\n",
    "\n",
    "for i in range(10):\n",
    "    mult.append(5 * i)\n",
    "\n",
    "mult"
   ]
  },
  {
   "cell_type": "code",
   "execution_count": 17,
   "metadata": {},
   "outputs": [
    {
     "output_type": "execute_result",
     "data": {
      "text/plain": [
       "[0, 5, 10, 15, 20, 25, 30, 35, 40, 45]"
      ]
     },
     "metadata": {},
     "execution_count": 17
    }
   ],
   "source": [
    "mult = list(5*i for i in range(10))\n",
    "mult"
   ]
  },
  {
   "source": [
    "Dadas dos listas, crear otra que tenga los elementos que están en la primera y que no están en la segunda:\n",
    "\n",
    "1. Usando bucles tradicionales\n",
    "2. Usando listas por comprensión\n",
    "\n",
    "Cada elemento debe aparecer tantas veces como en la lista original"
   ],
   "cell_type": "markdown",
   "metadata": {}
  },
  {
   "cell_type": "code",
   "execution_count": 18,
   "metadata": {},
   "outputs": [
    {
     "output_type": "execute_result",
     "data": {
      "text/plain": [
       "[0, 1, 2, 3, 2, 3, 1, 3]"
      ]
     },
     "metadata": {},
     "execution_count": 18
    }
   ],
   "source": [
    "l1 = [0,1,2,3,2,3,1,5,4,5,4,6,3,5]\n",
    "l2 = [4,5,6,7,8,9]\n",
    "res = []\n",
    "\n",
    "for i in l1:\n",
    "    if i not in l2:\n",
    "        res.append(i)\n",
    "res"
   ]
  },
  {
   "cell_type": "code",
   "execution_count": 19,
   "metadata": {},
   "outputs": [
    {
     "output_type": "execute_result",
     "data": {
      "text/plain": [
       "[0, 1, 2, 3, 2, 3, 1, 3]"
      ]
     },
     "metadata": {},
     "execution_count": 19
    }
   ],
   "source": [
    "res = [i for i in l1 if i not in l2]\n",
    "res"
   ]
  },
  {
   "source": [
    "Dada una lista de números encontrar el promedio de los que sean pares:\n",
    "\n",
    "1. Usando solamente estructuras de control\n",
    "2. Usando listas por comprensión y funciones incorporadas"
   ],
   "cell_type": "markdown",
   "metadata": {}
  },
  {
   "cell_type": "code",
   "execution_count": 20,
   "metadata": {},
   "outputs": [
    {
     "output_type": "execute_result",
     "data": {
      "text/plain": [
       "4.0"
      ]
     },
     "metadata": {},
     "execution_count": 20
    }
   ],
   "source": [
    "n = [5,4,2,6,9,5,9,10,0,2,8,0,7,1,6,0,3,8,1,0,6,7]\n",
    "den = 0\n",
    "tot = 0\n",
    "\n",
    "for i in n:\n",
    "    if i%2 == 0:\n",
    "        den += 1\n",
    "        tot += i\n",
    "tot/den"
   ]
  },
  {
   "cell_type": "code",
   "execution_count": 21,
   "metadata": {},
   "outputs": [
    {
     "output_type": "execute_result",
     "data": {
      "text/plain": [
       "4.0"
      ]
     },
     "metadata": {},
     "execution_count": 21
    }
   ],
   "source": [
    "odd = [i for i in n if i%2 == 0]\n",
    "sum(odd)/len(odd)"
   ]
  }
 ]
}