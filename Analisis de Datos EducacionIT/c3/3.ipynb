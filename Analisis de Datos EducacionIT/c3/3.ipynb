{
 "metadata": {
  "language_info": {
   "codemirror_mode": {
    "name": "ipython",
    "version": 3
   },
   "file_extension": ".py",
   "mimetype": "text/x-python",
   "name": "python",
   "nbconvert_exporter": "python",
   "pygments_lexer": "ipython3",
   "version": "3.8.5"
  },
  "orig_nbformat": 2,
  "kernelspec": {
   "name": "python3",
   "display_name": "Python 3.8.5 64-bit ('base': conda)"
  },
  "interpreter": {
   "hash": "c469c999aae2bf6d578d6881606ced546d1546d312a4811937df5b24665ee8bc"
  }
 },
 "nbformat": 4,
 "nbformat_minor": 2,
 "cells": [
  {
   "cell_type": "code",
   "execution_count": 95,
   "metadata": {},
   "outputs": [
    {
     "output_type": "execute_result",
     "data": {
      "text/plain": [
       "array([1, 3, 5])"
      ]
     },
     "metadata": {},
     "execution_count": 95
    }
   ],
   "source": [
    "import numpy as np\n",
    "n = np.array([1,2,3,4,5])\n",
    "b = np.array([True, False, True, False, True])\n",
    "\n",
    "n[b]"
   ]
  },
  {
   "cell_type": "code",
   "execution_count": 96,
   "metadata": {},
   "outputs": [
    {
     "output_type": "execute_result",
     "data": {
      "text/plain": [
       "array([False, False,  True,  True,  True])"
      ]
     },
     "metadata": {},
     "execution_count": 96
    }
   ],
   "source": [
    "n>2"
   ]
  },
  {
   "cell_type": "code",
   "execution_count": 97,
   "metadata": {},
   "outputs": [
    {
     "output_type": "execute_result",
     "data": {
      "text/plain": [
       "array([3, 4, 5])"
      ]
     },
     "metadata": {},
     "execution_count": 97
    }
   ],
   "source": [
    "n[n>2]"
   ]
  },
  {
   "cell_type": "code",
   "execution_count": 98,
   "metadata": {},
   "outputs": [
    {
     "output_type": "execute_result",
     "data": {
      "text/plain": [
       "array([2, 4, 5, 6])"
      ]
     },
     "metadata": {},
     "execution_count": 98
    }
   ],
   "source": [
    "a = np.array([1,2,3,4,5,6])\n",
    "b = np.array([1,2,3,7,8,9])\n",
    "\n",
    "a[(a<b) | (b%2==0)]"
   ]
  },
  {
   "source": [
    "# LABO 1"
   ],
   "cell_type": "markdown",
   "metadata": {}
  },
  {
   "source": [
    "Construir arrays a partir de una lista simple y una lista anidada usando tipos de datos numéricos distintos para cada una"
   ],
   "cell_type": "markdown",
   "metadata": {}
  },
  {
   "cell_type": "code",
   "execution_count": 99,
   "metadata": {},
   "outputs": [],
   "source": [
    "import numpy as np"
   ]
  },
  {
   "cell_type": "code",
   "execution_count": 100,
   "metadata": {},
   "outputs": [
    {
     "output_type": "execute_result",
     "data": {
      "text/plain": [
       "array([1, 2, 3, 4, 5, 6], dtype=int16)"
      ]
     },
     "metadata": {},
     "execution_count": 100
    }
   ],
   "source": [
    "n = np.array([1,2,3,4,5,6], dtype=np.int16)\n",
    "n"
   ]
  },
  {
   "cell_type": "code",
   "execution_count": 101,
   "metadata": {},
   "outputs": [
    {
     "output_type": "execute_result",
     "data": {
      "text/plain": [
       "array([[1, 2, 3],\n",
       "       [4, 5, 6]], dtype=int8)"
      ]
     },
     "metadata": {},
     "execution_count": 101
    }
   ],
   "source": [
    "n = np.array([[1,2,3],[4,5,6]], dtype=np.int8)\n",
    "n"
   ]
  },
  {
   "source": [
    "Construir una matriz de 4x5 a partir de: 1) listas anidadas y 2) números aleatorios"
   ],
   "cell_type": "markdown",
   "metadata": {}
  },
  {
   "cell_type": "code",
   "execution_count": 102,
   "metadata": {},
   "outputs": [
    {
     "output_type": "execute_result",
     "data": {
      "text/plain": [
       "array([[0, 0, 0, 0, 0],\n",
       "       [1, 1, 1, 1, 1],\n",
       "       [2, 2, 2, 2, 2],\n",
       "       [3, 3, 3, 3, 3]])"
      ]
     },
     "metadata": {},
     "execution_count": 102
    }
   ],
   "source": [
    "np.array([[0,0,0,0,0],[1,1,1,1,1],[2,2,2,2,2],[3,3,3,3,3]])"
   ]
  },
  {
   "cell_type": "code",
   "execution_count": 103,
   "metadata": {},
   "outputs": [
    {
     "output_type": "execute_result",
     "data": {
      "text/plain": [
       "array([[8, 2, 5, 2, 7],\n",
       "       [0, 3, 8, 9, 0],\n",
       "       [7, 7, 3, 7, 3],\n",
       "       [4, 6, 8, 4, 8]])"
      ]
     },
     "metadata": {},
     "execution_count": 103
    }
   ],
   "source": [
    "np.random.randint(0,10, size=(4,5))"
   ]
  },
  {
   "source": [
    "Construir un array lineal de 36 elementos. Cambiar\n",
    "el shape para que tenga:\n",
    "\n",
    "1. 3 filas y 12 columnas\n",
    "\n",
    "2. 4 columnas\n",
    "\n",
    "3. dimensión 4"
   ],
   "cell_type": "markdown",
   "metadata": {}
  },
  {
   "cell_type": "code",
   "execution_count": 104,
   "metadata": {},
   "outputs": [
    {
     "output_type": "execute_result",
     "data": {
      "text/plain": [
       "array([ 0,  1,  2,  3,  4,  5,  6,  7,  8,  9, 10, 11, 12, 13, 14, 15, 16,\n",
       "       17, 18, 19, 20, 21, 22, 23, 24, 25, 26, 27, 28, 29, 30, 31, 32, 33,\n",
       "       34, 35])"
      ]
     },
     "metadata": {},
     "execution_count": 104
    }
   ],
   "source": [
    "n = np.arange(36)\n",
    "n"
   ]
  },
  {
   "cell_type": "code",
   "execution_count": 105,
   "metadata": {},
   "outputs": [
    {
     "output_type": "execute_result",
     "data": {
      "text/plain": [
       "array([[ 0,  1,  2,  3,  4,  5,  6,  7,  8,  9, 10, 11],\n",
       "       [12, 13, 14, 15, 16, 17, 18, 19, 20, 21, 22, 23],\n",
       "       [24, 25, 26, 27, 28, 29, 30, 31, 32, 33, 34, 35]])"
      ]
     },
     "metadata": {},
     "execution_count": 105
    }
   ],
   "source": [
    "n.reshape(3,12)"
   ]
  },
  {
   "cell_type": "code",
   "execution_count": 106,
   "metadata": {},
   "outputs": [
    {
     "output_type": "execute_result",
     "data": {
      "text/plain": [
       "array([[[[ 0,  1,  2],\n",
       "         [ 3,  4,  5],\n",
       "         [ 6,  7,  8]],\n",
       "\n",
       "        [[ 9, 10, 11],\n",
       "         [12, 13, 14],\n",
       "         [15, 16, 17]]],\n",
       "\n",
       "\n",
       "       [[[18, 19, 20],\n",
       "         [21, 22, 23],\n",
       "         [24, 25, 26]],\n",
       "\n",
       "        [[27, 28, 29],\n",
       "         [30, 31, 32],\n",
       "         [33, 34, 35]]]])"
      ]
     },
     "metadata": {},
     "execution_count": 106
    }
   ],
   "source": [
    "n.reshape((-1,4))\n",
    "n.reshape((2,2,3,3))"
   ]
  },
  {
   "source": [
    "1. Dado un array de enteros de shape (4, 6) seleccionar:\n",
    "\n",
    "a. El primer elemento de la primer fila\n",
    "\n",
    "b. La segunda fila\n",
    "\n",
    "c. La cuarta columna\n",
    "\n",
    "d. Las columnas de índice par\n",
    "\n",
    "e. Los elementos mayores a 7 (u otra condición a elección)\n",
    "\n",
    "2. Al mismo array asignarle el valor 100 al último elemento\n",
    "de la última fila.\n",
    "\n",
    "3. Asignarle 0 a la quinta columna."
   ],
   "cell_type": "markdown",
   "metadata": {}
  },
  {
   "cell_type": "code",
   "execution_count": 152,
   "metadata": {},
   "outputs": [
    {
     "output_type": "execute_result",
     "data": {
      "text/plain": [
       "array([[6, 5, 7, 3, 3, 7],\n",
       "       [9, 7, 7, 9, 7, 7],\n",
       "       [7, 6, 2, 6, 3, 2],\n",
       "       [6, 5, 0, 9, 0, 5]])"
      ]
     },
     "metadata": {},
     "execution_count": 152
    }
   ],
   "source": [
    "n = np.random.randint(10,size=(4,6))\n",
    "n"
   ]
  },
  {
   "cell_type": "code",
   "execution_count": 153,
   "metadata": {},
   "outputs": [
    {
     "output_type": "execute_result",
     "data": {
      "text/plain": [
       "6"
      ]
     },
     "metadata": {},
     "execution_count": 153
    }
   ],
   "source": [
    "n[0,0]"
   ]
  },
  {
   "cell_type": "code",
   "execution_count": 154,
   "metadata": {},
   "outputs": [
    {
     "output_type": "execute_result",
     "data": {
      "text/plain": [
       "array([9, 7, 7, 9, 7, 7])"
      ]
     },
     "metadata": {},
     "execution_count": 154
    }
   ],
   "source": [
    "n[1, :]"
   ]
  },
  {
   "cell_type": "code",
   "execution_count": 155,
   "metadata": {},
   "outputs": [
    {
     "output_type": "execute_result",
     "data": {
      "text/plain": [
       "array([3, 9, 6, 9])"
      ]
     },
     "metadata": {},
     "execution_count": 155
    }
   ],
   "source": [
    "n[:, 3]"
   ]
  },
  {
   "cell_type": "code",
   "execution_count": 156,
   "metadata": {},
   "outputs": [
    {
     "output_type": "execute_result",
     "data": {
      "text/plain": [
       "array([[6, 7, 3],\n",
       "       [9, 7, 7],\n",
       "       [7, 2, 3],\n",
       "       [6, 0, 0]])"
      ]
     },
     "metadata": {},
     "execution_count": 156
    }
   ],
   "source": [
    "n[:, ::2]"
   ]
  },
  {
   "cell_type": "code",
   "execution_count": 157,
   "metadata": {},
   "outputs": [
    {
     "output_type": "execute_result",
     "data": {
      "text/plain": [
       "array([9, 9, 9])"
      ]
     },
     "metadata": {},
     "execution_count": 157
    }
   ],
   "source": [
    "n[n>7]"
   ]
  },
  {
   "cell_type": "code",
   "execution_count": 158,
   "metadata": {},
   "outputs": [
    {
     "output_type": "execute_result",
     "data": {
      "text/plain": [
       "array([[  6,   5,   7,   3,   3,   7],\n",
       "       [  9,   7,   7,   9,   7,   7],\n",
       "       [  7,   6,   2,   6,   3,   2],\n",
       "       [  6,   5,   0,   9,   0, 100]])"
      ]
     },
     "metadata": {},
     "execution_count": 158
    }
   ],
   "source": [
    "n[-1,-1] = 100\n",
    "n"
   ]
  },
  {
   "cell_type": "code",
   "execution_count": 162,
   "metadata": {},
   "outputs": [
    {
     "output_type": "execute_result",
     "data": {
      "text/plain": [
       "array([[  6,   5,   7,   3,   0,   7],\n",
       "       [  9,   7,   7,   9,   0,   7],\n",
       "       [  7,   6,   2,   6,   0,   2],\n",
       "       [  6,   5,   0,   9,   0, 100]])"
      ]
     },
     "metadata": {},
     "execution_count": 162
    }
   ],
   "source": [
    "n[:, 4] = 0\n",
    "n"
   ]
  },
  {
   "source": [
    "# LABO 2"
   ],
   "cell_type": "markdown",
   "metadata": {}
  },
  {
   "source": [
    "1. Calcular los cubos de los primeros 15 naturales.\n",
    "\n",
    "2. Sumar la matriz identidad a una matriz llena de unos.\n",
    "\n",
    "3. Hacer una función que calcule grados Fahrenheit a partir\n",
    "de un array con grados Celsius.\n",
    "\n",
    "4. Hacer una función que tome dos arrays (peso y altura) y\n",
    "calcule el índice de masa corporal.\n",
    "\n",
    "5. Crear una matriz de 4x5 llena de ceros. Sumar 10 a la\n",
    "tercera columna usando broadcasting.\n",
    "\n",
    "6. Encontrar los elementos de un array que son menores a\n",
    "los logaritmos al cuadrado de los elementos de otro array."
   ],
   "cell_type": "markdown",
   "metadata": {}
  },
  {
   "cell_type": "code",
   "execution_count": 2,
   "metadata": {},
   "outputs": [
    {
     "output_type": "execute_result",
     "data": {
      "text/plain": [
       "array([   0,    1,    8,   27,   64,  125,  216,  343,  512,  729, 1000,\n",
       "       1331, 1728, 2197, 2744], dtype=int32)"
      ]
     },
     "metadata": {},
     "execution_count": 2
    }
   ],
   "source": [
    "import numpy as np\n",
    "#1\n",
    "n = np.arange(15)\n",
    "n**3"
   ]
  },
  {
   "cell_type": "code",
   "execution_count": 184,
   "metadata": {},
   "outputs": [
    {
     "output_type": "execute_result",
     "data": {
      "text/plain": [
       "array([[2., 1., 1.],\n",
       "       [1., 2., 1.],\n",
       "       [1., 1., 2.]])"
      ]
     },
     "metadata": {},
     "execution_count": 184
    }
   ],
   "source": [
    "#2\n",
    "np.identity(3) + np.ones((3,3))"
   ]
  },
  {
   "cell_type": "code",
   "execution_count": 4,
   "metadata": {},
   "outputs": [
    {
     "output_type": "execute_result",
     "data": {
      "text/plain": [
       "array([32. , 33.8, 35.6, 37.4, 39.2, 41. , 42.8, 44.6, 46.4, 48.2])"
      ]
     },
     "metadata": {},
     "execution_count": 4
    }
   ],
   "source": [
    "#3\n",
    "def f(c):\n",
    "    return c*1.8+32\n",
    "f(np.arange(10))"
   ]
  },
  {
   "cell_type": "code",
   "execution_count": 16,
   "metadata": {},
   "outputs": [],
   "source": [
    "#4\n",
    "def imc(w, h):\n",
    "    return w/h**2"
   ]
  },
  {
   "cell_type": "code",
   "execution_count": 18,
   "metadata": {},
   "outputs": [
    {
     "output_type": "execute_result",
     "data": {
      "text/plain": [
       "array([[ 0.,  0., 10.,  0.,  0.],\n",
       "       [ 0.,  0., 10.,  0.,  0.],\n",
       "       [ 0.,  0., 10.,  0.,  0.],\n",
       "       [ 0.,  0., 10.,  0.,  0.]])"
      ]
     },
     "metadata": {},
     "execution_count": 18
    }
   ],
   "source": [
    "#5\n",
    "n = np.zeros((4, 5))\n",
    "n + np.array([0,0,10,0,0])"
   ]
  },
  {
   "cell_type": "code",
   "execution_count": 19,
   "metadata": {},
   "outputs": [
    {
     "output_type": "execute_result",
     "data": {
      "text/plain": [
       "array([7, 3, 4, 7, 2, 2, 6, 3, 1, 3, 6, 4, 2, 7, 8, 3, 4, 4, 6, 4, 5, 3,\n",
       "       3, 4, 4, 5, 1, 2, 1])"
      ]
     },
     "metadata": {},
     "execution_count": 19
    }
   ],
   "source": [
    "#6\n",
    "A = np.random.randint(1,20,(10,10))\n",
    "B = np.random.randint(1,20,(10,10))\n",
    "\n",
    "A[A < np.log(B)**2]"
   ]
  },
  {
   "source": [
    "# LABO 3"
   ],
   "cell_type": "markdown",
   "metadata": {}
  },
  {
   "source": [
    "1. Crear un array a partir del archivo “numeros.csv”\n",
    "2. ¿Cuántas filas y columnas tiene?\n",
    "3. Realizar las siguientes estadísticas para todas las columnas:\n",
    "promedio, desviación standard, mínimo y máximo\n",
    "4. ¿Qué columna tiene mayor dispersión?\n",
    "5. ¿Qué columna abarca un rango de números más amplio?"
   ],
   "cell_type": "markdown",
   "metadata": {}
  },
  {
   "source": [
    "# 1:\n",
    "f = np.genfromtxt(\"numeros.csv\", dtype=None)\n",
    "f"
   ],
   "cell_type": "code",
   "metadata": {},
   "execution_count": 186,
   "outputs": [
    {
     "output_type": "execute_result",
     "data": {
      "text/plain": [
       "array([[ 4.813,  3.892, 15.295, 14.966, -2.629, 10.321],\n",
       "       [ 6.281,  1.71 , 15.081, 11.82 , -5.391,  9.507],\n",
       "       [ 5.923,  4.602, 14.809,  8.604, -2.694,  9.48 ],\n",
       "       ...,\n",
       "       [ 4.408,  2.114, 15.326,  8.805, -3.355, 11.287],\n",
       "       [ 6.437,  2.542, 15.378, 13.038, -4.922, 11.014],\n",
       "       [ 6.665,  0.87 , 15.143, 17.716, -3.466,  8.881]])"
      ]
     },
     "metadata": {},
     "execution_count": 186
    }
   ]
  },
  {
   "cell_type": "code",
   "execution_count": 187,
   "metadata": {},
   "outputs": [
    {
     "output_type": "execute_result",
     "data": {
      "text/plain": [
       "(50000, 6)"
      ]
     },
     "metadata": {},
     "execution_count": 187
    }
   ],
   "source": [
    "# 2:\n",
    "f.shape"
   ]
  },
  {
   "cell_type": "code",
   "execution_count": 188,
   "metadata": {},
   "outputs": [
    {
     "output_type": "stream",
     "name": "stdout",
     "text": [
      "[ 5.9997414   2.00692114 15.0025543  12.03065986 -3.00791112  9.99568554]\n[1.00023883 2.00229762 0.4993279  3.00265157 2.496453   1.50167353]\n[  1.639  -6.068  12.767   0.015 -13.386   4.398]\n[10.409 11.162 17.09  23.678  7.668 16.516]\n"
     ]
    }
   ],
   "source": [
    "# 3:\n",
    "print(f.mean(axis = 0))\n",
    "print(f.std(axis = 0))\n",
    "print(f.min(axis = 0))\n",
    "print(f.max(axis = 0))"
   ]
  },
  {
   "cell_type": "code",
   "execution_count": 189,
   "metadata": {},
   "outputs": [
    {
     "output_type": "execute_result",
     "data": {
      "text/plain": [
       "3.0026515742264963"
      ]
     },
     "metadata": {},
     "execution_count": 189
    }
   ],
   "source": [
    "#4\n",
    "np.max(f.std(axis = 0))"
   ]
  },
  {
   "cell_type": "code",
   "execution_count": 190,
   "metadata": {},
   "outputs": [
    {
     "output_type": "execute_result",
     "data": {
      "text/plain": [
       "750127.7149999978"
      ]
     },
     "metadata": {},
     "execution_count": 190
    }
   ],
   "source": [
    "np.max(f.cumsum(axis = 0))"
   ]
  },
  {
   "cell_type": "code",
   "execution_count": 191,
   "metadata": {},
   "outputs": [
    {
     "output_type": "execute_result",
     "data": {
      "text/plain": [
       "array([ 8.409,  9.162, 15.09 , 21.678,  5.668, 14.516])"
      ]
     },
     "metadata": {},
     "execution_count": 191
    }
   ],
   "source": [
    "(f.max(axis=0) - f.min(axis=0).argmax())"
   ]
  },
  {
   "source": [
    "# LABO 4"
   ],
   "cell_type": "markdown",
   "metadata": {}
  },
  {
   "source": [
    "1. Crear un vector de diez números al azar.\n",
    "2. Calcular la norma del vector usando:\n",
    "\n",
    "    a. producto escalar.\n",
    "\n",
    "    b. función a tal efecto.\n",
    "\n",
    "3. Crear una matriz de 2x3 y multiplicarla por su traspuesta.\n",
    "4. Multiplicar la matriz identidad por un vector columna."
   ],
   "cell_type": "markdown",
   "metadata": {}
  },
  {
   "cell_type": "code",
   "execution_count": 192,
   "metadata": {},
   "outputs": [],
   "source": [
    "# 1:\n",
    "n = np.random.randint(0,9,(10,))"
   ]
  },
  {
   "cell_type": "code",
   "execution_count": 193,
   "metadata": {},
   "outputs": [
    {
     "output_type": "stream",
     "name": "stdout",
     "text": [
      "17.916472867168917\n17.916472867168917\n"
     ]
    }
   ],
   "source": [
    "#2\n",
    "print(np.linalg.norm(n))\n",
    "print(np.sqrt(n.dot(n)))"
   ]
  },
  {
   "cell_type": "code",
   "execution_count": 194,
   "metadata": {},
   "outputs": [
    {
     "output_type": "execute_result",
     "data": {
      "text/plain": [
       "array([[  8,  24],\n",
       "       [ 24, 105]])"
      ]
     },
     "metadata": {},
     "execution_count": 194
    }
   ],
   "source": [
    "#3\n",
    "n2 = np.random.randint(0,9,(2,3))\n",
    "n2@n2.T"
   ]
  },
  {
   "cell_type": "code",
   "execution_count": 195,
   "metadata": {},
   "outputs": [
    {
     "output_type": "execute_result",
     "data": {
      "text/plain": [
       "array([4., 7., 5.])"
      ]
     },
     "metadata": {},
     "execution_count": 195
    }
   ],
   "source": [
    "#4\n",
    "np.identity(3)@np.random.randint(0,9,(3))"
   ]
  }
 ]
}