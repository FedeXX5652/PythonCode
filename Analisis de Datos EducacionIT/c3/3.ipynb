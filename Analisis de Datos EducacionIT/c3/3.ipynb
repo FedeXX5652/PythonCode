{
 "metadata": {
  "language_info": {
   "codemirror_mode": {
    "name": "ipython",
    "version": 3
   },
   "file_extension": ".py",
   "mimetype": "text/x-python",
   "name": "python",
   "nbconvert_exporter": "python",
   "pygments_lexer": "ipython3",
   "version": "3.8.5"
  },
  "orig_nbformat": 2,
  "kernelspec": {
   "name": "python385jvsc74a57bd0c469c999aae2bf6d578d6881606ced546d1546d312a4811937df5b24665ee8bc",
   "display_name": "Python 3.8.5 64-bit ('base': conda)"
  }
 },
 "nbformat": 4,
 "nbformat_minor": 2,
 "cells": [
  {
   "cell_type": "code",
   "execution_count": 275,
   "metadata": {},
   "outputs": [
    {
     "output_type": "execute_result",
     "data": {
      "text/plain": [
       "array([1, 3, 5])"
      ]
     },
     "metadata": {},
     "execution_count": 275
    }
   ],
   "source": [
    "import numpy as np\n",
    "n = np.array([1,2,3,4,5])\n",
    "b = np.array([True, False, True, False, True])\n",
    "\n",
    "n[b]"
   ]
  },
  {
   "cell_type": "code",
   "execution_count": 276,
   "metadata": {},
   "outputs": [
    {
     "output_type": "execute_result",
     "data": {
      "text/plain": [
       "array([False, False,  True,  True,  True])"
      ]
     },
     "metadata": {},
     "execution_count": 276
    }
   ],
   "source": [
    "n>2"
   ]
  },
  {
   "cell_type": "code",
   "execution_count": 277,
   "metadata": {},
   "outputs": [
    {
     "output_type": "execute_result",
     "data": {
      "text/plain": [
       "array([3, 4, 5])"
      ]
     },
     "metadata": {},
     "execution_count": 277
    }
   ],
   "source": [
    "n[n>2]"
   ]
  },
  {
   "cell_type": "code",
   "execution_count": 278,
   "metadata": {},
   "outputs": [
    {
     "output_type": "execute_result",
     "data": {
      "text/plain": [
       "array([2, 4, 5, 6])"
      ]
     },
     "metadata": {},
     "execution_count": 278
    }
   ],
   "source": [
    "a = np.array([1,2,3,4,5,6])\n",
    "b = np.array([1,2,3,7,8,9])\n",
    "\n",
    "a[(a<b) | (b%2==0)]"
   ]
  },
  {
   "source": [
    "# LABO 1"
   ],
   "cell_type": "markdown",
   "metadata": {}
  },
  {
   "source": [
    "Construir arrays a partir de una lista simple y una lista anidada usando tipos de datos numéricos distintos para cada una"
   ],
   "cell_type": "markdown",
   "metadata": {}
  },
  {
   "cell_type": "code",
   "execution_count": 279,
   "metadata": {},
   "outputs": [],
   "source": [
    "import numpy as np"
   ]
  },
  {
   "cell_type": "code",
   "execution_count": 280,
   "metadata": {},
   "outputs": [
    {
     "output_type": "execute_result",
     "data": {
      "text/plain": [
       "array([1, 2, 3, 4, 5, 6], dtype=int16)"
      ]
     },
     "metadata": {},
     "execution_count": 280
    }
   ],
   "source": [
    "n = np.array([1,2,3,4,5,6], dtype=np.int16)\n",
    "n"
   ]
  },
  {
   "cell_type": "code",
   "execution_count": 281,
   "metadata": {},
   "outputs": [
    {
     "output_type": "execute_result",
     "data": {
      "text/plain": [
       "array([[1, 2, 3],\n",
       "       [4, 5, 6]], dtype=int8)"
      ]
     },
     "metadata": {},
     "execution_count": 281
    }
   ],
   "source": [
    "n = np.array([[1,2,3],[4,5,6]], dtype=np.int8)\n",
    "n"
   ]
  },
  {
   "source": [
    "Construir una matriz de 4x5 a partir de: 1) listas anidadas y 2) números aleatorios"
   ],
   "cell_type": "markdown",
   "metadata": {}
  },
  {
   "source": [
    "# LABO 3"
   ],
   "cell_type": "markdown",
   "metadata": {}
  },
  {
   "source": [
    "1. Crear un array a partir del archivo “numeros.csv”\n",
    "2. ¿Cuántas filas y columnas tiene?\n",
    "3. Realizar las siguientes estadísticas para todas las columnas:\n",
    "promedio, desviación standard, mínimo y máximo\n",
    "4. ¿Qué columna tiene mayor dispersión?\n",
    "5. ¿Qué columna abarca un rango de números más amplio?"
   ],
   "cell_type": "markdown",
   "metadata": {}
  },
  {
   "source": [
    "# 1:\n",
    "f = np.genfromtxt(\"numeros.csv\", dtype=None)\n",
    "f"
   ],
   "cell_type": "code",
   "metadata": {},
   "execution_count": 282,
   "outputs": [
    {
     "output_type": "execute_result",
     "data": {
      "text/plain": [
       "array([[ 4.813,  3.892, 15.295, 14.966, -2.629, 10.321],\n",
       "       [ 6.281,  1.71 , 15.081, 11.82 , -5.391,  9.507],\n",
       "       [ 5.923,  4.602, 14.809,  8.604, -2.694,  9.48 ],\n",
       "       ...,\n",
       "       [ 4.408,  2.114, 15.326,  8.805, -3.355, 11.287],\n",
       "       [ 6.437,  2.542, 15.378, 13.038, -4.922, 11.014],\n",
       "       [ 6.665,  0.87 , 15.143, 17.716, -3.466,  8.881]])"
      ]
     },
     "metadata": {},
     "execution_count": 282
    }
   ]
  },
  {
   "cell_type": "code",
   "execution_count": 283,
   "metadata": {},
   "outputs": [
    {
     "output_type": "execute_result",
     "data": {
      "text/plain": [
       "(50000, 6)"
      ]
     },
     "metadata": {},
     "execution_count": 283
    }
   ],
   "source": [
    "# 2:\n",
    "f.shape"
   ]
  },
  {
   "cell_type": "code",
   "execution_count": 284,
   "metadata": {},
   "outputs": [
    {
     "output_type": "stream",
     "name": "stdout",
     "text": [
      "[ 5.9997414   2.00692114 15.0025543  12.03065986 -3.00791112  9.99568554]\n[1.00023883 2.00229762 0.4993279  3.00265157 2.496453   1.50167353]\n[  1.639  -6.068  12.767   0.015 -13.386   4.398]\n[10.409 11.162 17.09  23.678  7.668 16.516]\n"
     ]
    }
   ],
   "source": [
    "# 3:\n",
    "print(f.mean(axis = 0))\n",
    "print(f.std(axis = 0))\n",
    "print(f.min(axis = 0))\n",
    "print(f.max(axis = 0))"
   ]
  },
  {
   "cell_type": "code",
   "execution_count": 285,
   "metadata": {},
   "outputs": [
    {
     "output_type": "execute_result",
     "data": {
      "text/plain": [
       "3.0026515742264963"
      ]
     },
     "metadata": {},
     "execution_count": 285
    }
   ],
   "source": [
    "np.max(f.std(axis = 0))"
   ]
  },
  {
   "cell_type": "code",
   "execution_count": 286,
   "metadata": {},
   "outputs": [
    {
     "output_type": "execute_result",
     "data": {
      "text/plain": [
       "750127.7149999978"
      ]
     },
     "metadata": {},
     "execution_count": 286
    }
   ],
   "source": [
    "np.max(f.cumsum(axis = 0))"
   ]
  },
  {
   "cell_type": "code",
   "execution_count": 287,
   "metadata": {},
   "outputs": [
    {
     "output_type": "execute_result",
     "data": {
      "text/plain": [
       "array([ 8.409,  9.162, 15.09 , 21.678,  5.668, 14.516])"
      ]
     },
     "metadata": {},
     "execution_count": 287
    }
   ],
   "source": [
    "(f.max(axis=0) - f.min(axis=0).argmax())"
   ]
  },
  {
   "source": [
    "# LABO 4"
   ],
   "cell_type": "markdown",
   "metadata": {}
  },
  {
   "source": [
    "1. Crear un vector de diez números al azar.\n",
    "2. Calcular la norma del vector usando:\n",
    "\n",
    "    a. producto escalar.\n",
    "\n",
    "    b. función a tal efecto.\n",
    "\n",
    "3. Crear una matriz de 2x3 y multiplicarla por su traspuesta.\n",
    "4. Multiplicar la matriz identidad por un vector columna."
   ],
   "cell_type": "markdown",
   "metadata": {}
  },
  {
   "cell_type": "code",
   "execution_count": 311,
   "metadata": {},
   "outputs": [],
   "source": [
    "# 1:\n",
    "n = np.random.randint(0,9,(10,))"
   ]
  },
  {
   "cell_type": "code",
   "execution_count": 312,
   "metadata": {},
   "outputs": [
    {
     "output_type": "stream",
     "name": "stdout",
     "text": [
      "12.922847983320086\n12.922847983320086\n"
     ]
    }
   ],
   "source": [
    "print(np.linalg.norm(n))\n",
    "print(np.sqrt(n.dot(n)))"
   ]
  },
  {
   "cell_type": "code",
   "execution_count": 313,
   "metadata": {},
   "outputs": [
    {
     "output_type": "execute_result",
     "data": {
      "text/plain": [
       "array([[88, 58],\n",
       "       [58, 45]])"
      ]
     },
     "metadata": {},
     "execution_count": 313
    }
   ],
   "source": [
    "n2 = np.random.randint(0,9,(2,3))\n",
    "n2@n2.T"
   ]
  },
  {
   "cell_type": "code",
   "execution_count": 318,
   "metadata": {},
   "outputs": [
    {
     "output_type": "execute_result",
     "data": {
      "text/plain": [
       "array([2., 7., 8.])"
      ]
     },
     "metadata": {},
     "execution_count": 318
    }
   ],
   "source": [
    "np.identity(3)@np.random.randint(0,9,(3))"
   ]
  },
  {
   "cell_type": "code",
   "execution_count": null,
   "metadata": {},
   "outputs": [],
   "source": []
  }
 ]
}